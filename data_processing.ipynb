{
  "cells": [
    {
      "cell_type": "markdown",
      "metadata": {
        "id": "view-in-github",
        "colab_type": "text"
      },
      "source": [
        "<a href=\"https://colab.research.google.com/github/manavisrani07/Graph4Recommendations/blob/main/data_processing.ipynb\" target=\"_parent\"><img src=\"https://colab.research.google.com/assets/colab-badge.svg\" alt=\"Open In Colab\"/></a>"
      ]
    },
    {
      "cell_type": "code",
      "execution_count": null,
      "metadata": {
        "id": "IsF5dFr4_R6j"
      },
      "outputs": [],
      "source": [
        "!pip install kagglehub"
      ]
    },
    {
      "cell_type": "code",
      "execution_count": null,
      "metadata": {
        "colab": {
          "base_uri": "https://localhost:8080/"
        },
        "id": "lluPdEcv7YpR",
        "outputId": "b840288a-2aed-47b0-92b3-4b053e1e1fcc"
      },
      "outputs": [
        {
          "name": "stdout",
          "output_type": "stream",
          "text": [
            "Downloading from https://www.kaggle.com/api/v1/datasets/download/mustafaanandwala/10000-bollywood-dataset?dataset_version_number=1...\n"
          ]
        },
        {
          "name": "stderr",
          "output_type": "stream",
          "text": [
            "100%|██████████| 0.99M/0.99M [00:00<00:00, 115MB/s]"
          ]
        },
        {
          "name": "stdout",
          "output_type": "stream",
          "text": [
            "Extracting files...\n",
            "Dataset files moved to: /content/2/\n"
          ]
        },
        {
          "name": "stderr",
          "output_type": "stream",
          "text": [
            "\n"
          ]
        }
      ],
      "source": [
        "import kagglehub\n",
        "import shutil\n",
        "\n",
        "# Download the dataset\n",
        "path = kagglehub.dataset_download(\"mustafaanandwala/10000-bollywood-dataset\")\n",
        "\n",
        "# Specify destination path\n",
        "destination_path = \"/content/2/\"\n",
        "\n",
        "# Move the dataset to /content/\n",
        "shutil.move(path, destination_path)\n",
        "\n",
        "print(\"Dataset files moved to:\", destination_path)"
      ]
    },
    {
      "cell_type": "code",
      "execution_count": 2,
      "metadata": {
        "id": "WhyEuDga_-Ar"
      },
      "outputs": [],
      "source": [
        "import pandas as pd"
      ]
    },
    {
      "cell_type": "code",
      "execution_count": 3,
      "metadata": {
        "colab": {
          "base_uri": "https://localhost:8080/",
          "height": 608
        },
        "id": "DVbTlSKu_mFf",
        "outputId": "c6682b8c-4cfb-40e1-c0a6-e0771dfba8da"
      },
      "outputs": [
        {
          "output_type": "execute_result",
          "data": {
            "text/plain": [
              "      imdb-id         movie_name year_of_release  runtime IMDB_rating  \\\n",
              "0  tt10811166  The Kashmir Files          (2022)  170 min         8.3   \n",
              "1   tt1187043           3 Idiots          (2009)  170 min         8.4   \n",
              "2   tt0986264   Taare Zameen Par          (2007)  165 min         8.3   \n",
              "3   tt5074352             Dangal          (2016)  161 min         8.3   \n",
              "4   tt2338151                 PK          (2014)  153 min         8.1   \n",
              "\n",
              "  no_of_votes                                   plot_description  \\\n",
              "0     548,031  The Kashmir Files' is a story, based on video ...   \n",
              "1     387,020  Two friends are searching for their long lost ...   \n",
              "2     188,938  An eight-year-old boy is thought to be a lazy ...   \n",
              "3     183,452  Former wrestler Mahavir Singh Phogat and his t...   \n",
              "4     180,108  An alien on Earth loses the only device he can...   \n",
              "\n",
              "          director                                             actors  \\\n",
              "0  Vivek Agnihotri      Vivek Agnihotri|     Mithun Chakraborty, A...   \n",
              "1  Rajkumar Hirani      Rajkumar Hirani|     Aamir Khan, Madhavan,...   \n",
              "2       Aamir Khan      Aamir Khan, Amole Gupte|     Darsheel Safa...   \n",
              "3    Nitesh Tiwari      Nitesh Tiwari|     Aamir Khan, Sakshi Tanw...   \n",
              "4  Rajkumar Hirani      Rajkumar Hirani|     Aamir Khan, Anushka S...   \n",
              "\n",
              "                             genre  \\\n",
              "0                            Drama   \n",
              "1                    Comedy, Drama   \n",
              "2                    Drama, Family   \n",
              "3  Action, Biography, Drama, Sport   \n",
              "4            Comedy, Drama, Sci-Fi   \n",
              "\n",
              "                                            keywords  \n",
              "0  ['Kashmiri Pandit Community', \"Kashmir Files'\"...  \n",
              "1  ['long lost companion', 'lost companion', 'lon...  \n",
              "2  ['boy is thought', 'lazy trouble-maker', 'stru...  \n",
              "3  ['Mahavir Singh Phogat', 'wrestler Mahavir Sin...  \n",
              "4  ['alien on Earth', 'Earth loses', 'Earth', 'ch...  "
            ],
            "text/html": [
              "\n",
              "  <div id=\"df-baaff7b1-b4fd-474e-88d5-714061d3f354\" class=\"colab-df-container\">\n",
              "    <div>\n",
              "<style scoped>\n",
              "    .dataframe tbody tr th:only-of-type {\n",
              "        vertical-align: middle;\n",
              "    }\n",
              "\n",
              "    .dataframe tbody tr th {\n",
              "        vertical-align: top;\n",
              "    }\n",
              "\n",
              "    .dataframe thead th {\n",
              "        text-align: right;\n",
              "    }\n",
              "</style>\n",
              "<table border=\"1\" class=\"dataframe\">\n",
              "  <thead>\n",
              "    <tr style=\"text-align: right;\">\n",
              "      <th></th>\n",
              "      <th>imdb-id</th>\n",
              "      <th>movie_name</th>\n",
              "      <th>year_of_release</th>\n",
              "      <th>runtime</th>\n",
              "      <th>IMDB_rating</th>\n",
              "      <th>no_of_votes</th>\n",
              "      <th>plot_description</th>\n",
              "      <th>director</th>\n",
              "      <th>actors</th>\n",
              "      <th>genre</th>\n",
              "      <th>keywords</th>\n",
              "    </tr>\n",
              "  </thead>\n",
              "  <tbody>\n",
              "    <tr>\n",
              "      <th>0</th>\n",
              "      <td>tt10811166</td>\n",
              "      <td>The Kashmir Files</td>\n",
              "      <td>(2022)</td>\n",
              "      <td>170 min</td>\n",
              "      <td>8.3</td>\n",
              "      <td>548,031</td>\n",
              "      <td>The Kashmir Files' is a story, based on video ...</td>\n",
              "      <td>Vivek Agnihotri</td>\n",
              "      <td>Vivek Agnihotri|     Mithun Chakraborty, A...</td>\n",
              "      <td>Drama</td>\n",
              "      <td>['Kashmiri Pandit Community', \"Kashmir Files'\"...</td>\n",
              "    </tr>\n",
              "    <tr>\n",
              "      <th>1</th>\n",
              "      <td>tt1187043</td>\n",
              "      <td>3 Idiots</td>\n",
              "      <td>(2009)</td>\n",
              "      <td>170 min</td>\n",
              "      <td>8.4</td>\n",
              "      <td>387,020</td>\n",
              "      <td>Two friends are searching for their long lost ...</td>\n",
              "      <td>Rajkumar Hirani</td>\n",
              "      <td>Rajkumar Hirani|     Aamir Khan, Madhavan,...</td>\n",
              "      <td>Comedy, Drama</td>\n",
              "      <td>['long lost companion', 'lost companion', 'lon...</td>\n",
              "    </tr>\n",
              "    <tr>\n",
              "      <th>2</th>\n",
              "      <td>tt0986264</td>\n",
              "      <td>Taare Zameen Par</td>\n",
              "      <td>(2007)</td>\n",
              "      <td>165 min</td>\n",
              "      <td>8.3</td>\n",
              "      <td>188,938</td>\n",
              "      <td>An eight-year-old boy is thought to be a lazy ...</td>\n",
              "      <td>Aamir Khan</td>\n",
              "      <td>Aamir Khan, Amole Gupte|     Darsheel Safa...</td>\n",
              "      <td>Drama, Family</td>\n",
              "      <td>['boy is thought', 'lazy trouble-maker', 'stru...</td>\n",
              "    </tr>\n",
              "    <tr>\n",
              "      <th>3</th>\n",
              "      <td>tt5074352</td>\n",
              "      <td>Dangal</td>\n",
              "      <td>(2016)</td>\n",
              "      <td>161 min</td>\n",
              "      <td>8.3</td>\n",
              "      <td>183,452</td>\n",
              "      <td>Former wrestler Mahavir Singh Phogat and his t...</td>\n",
              "      <td>Nitesh Tiwari</td>\n",
              "      <td>Nitesh Tiwari|     Aamir Khan, Sakshi Tanw...</td>\n",
              "      <td>Action, Biography, Drama, Sport</td>\n",
              "      <td>['Mahavir Singh Phogat', 'wrestler Mahavir Sin...</td>\n",
              "    </tr>\n",
              "    <tr>\n",
              "      <th>4</th>\n",
              "      <td>tt2338151</td>\n",
              "      <td>PK</td>\n",
              "      <td>(2014)</td>\n",
              "      <td>153 min</td>\n",
              "      <td>8.1</td>\n",
              "      <td>180,108</td>\n",
              "      <td>An alien on Earth loses the only device he can...</td>\n",
              "      <td>Rajkumar Hirani</td>\n",
              "      <td>Rajkumar Hirani|     Aamir Khan, Anushka S...</td>\n",
              "      <td>Comedy, Drama, Sci-Fi</td>\n",
              "      <td>['alien on Earth', 'Earth loses', 'Earth', 'ch...</td>\n",
              "    </tr>\n",
              "  </tbody>\n",
              "</table>\n",
              "</div>\n",
              "    <div class=\"colab-df-buttons\">\n",
              "\n",
              "  <div class=\"colab-df-container\">\n",
              "    <button class=\"colab-df-convert\" onclick=\"convertToInteractive('df-baaff7b1-b4fd-474e-88d5-714061d3f354')\"\n",
              "            title=\"Convert this dataframe to an interactive table.\"\n",
              "            style=\"display:none;\">\n",
              "\n",
              "  <svg xmlns=\"http://www.w3.org/2000/svg\" height=\"24px\" viewBox=\"0 -960 960 960\">\n",
              "    <path d=\"M120-120v-720h720v720H120Zm60-500h600v-160H180v160Zm220 220h160v-160H400v160Zm0 220h160v-160H400v160ZM180-400h160v-160H180v160Zm440 0h160v-160H620v160ZM180-180h160v-160H180v160Zm440 0h160v-160H620v160Z\"/>\n",
              "  </svg>\n",
              "    </button>\n",
              "\n",
              "  <style>\n",
              "    .colab-df-container {\n",
              "      display:flex;\n",
              "      gap: 12px;\n",
              "    }\n",
              "\n",
              "    .colab-df-convert {\n",
              "      background-color: #E8F0FE;\n",
              "      border: none;\n",
              "      border-radius: 50%;\n",
              "      cursor: pointer;\n",
              "      display: none;\n",
              "      fill: #1967D2;\n",
              "      height: 32px;\n",
              "      padding: 0 0 0 0;\n",
              "      width: 32px;\n",
              "    }\n",
              "\n",
              "    .colab-df-convert:hover {\n",
              "      background-color: #E2EBFA;\n",
              "      box-shadow: 0px 1px 2px rgba(60, 64, 67, 0.3), 0px 1px 3px 1px rgba(60, 64, 67, 0.15);\n",
              "      fill: #174EA6;\n",
              "    }\n",
              "\n",
              "    .colab-df-buttons div {\n",
              "      margin-bottom: 4px;\n",
              "    }\n",
              "\n",
              "    [theme=dark] .colab-df-convert {\n",
              "      background-color: #3B4455;\n",
              "      fill: #D2E3FC;\n",
              "    }\n",
              "\n",
              "    [theme=dark] .colab-df-convert:hover {\n",
              "      background-color: #434B5C;\n",
              "      box-shadow: 0px 1px 3px 1px rgba(0, 0, 0, 0.15);\n",
              "      filter: drop-shadow(0px 1px 2px rgba(0, 0, 0, 0.3));\n",
              "      fill: #FFFFFF;\n",
              "    }\n",
              "  </style>\n",
              "\n",
              "    <script>\n",
              "      const buttonEl =\n",
              "        document.querySelector('#df-baaff7b1-b4fd-474e-88d5-714061d3f354 button.colab-df-convert');\n",
              "      buttonEl.style.display =\n",
              "        google.colab.kernel.accessAllowed ? 'block' : 'none';\n",
              "\n",
              "      async function convertToInteractive(key) {\n",
              "        const element = document.querySelector('#df-baaff7b1-b4fd-474e-88d5-714061d3f354');\n",
              "        const dataTable =\n",
              "          await google.colab.kernel.invokeFunction('convertToInteractive',\n",
              "                                                    [key], {});\n",
              "        if (!dataTable) return;\n",
              "\n",
              "        const docLinkHtml = 'Like what you see? Visit the ' +\n",
              "          '<a target=\"_blank\" href=https://colab.research.google.com/notebooks/data_table.ipynb>data table notebook</a>'\n",
              "          + ' to learn more about interactive tables.';\n",
              "        element.innerHTML = '';\n",
              "        dataTable['output_type'] = 'display_data';\n",
              "        await google.colab.output.renderOutput(dataTable, element);\n",
              "        const docLink = document.createElement('div');\n",
              "        docLink.innerHTML = docLinkHtml;\n",
              "        element.appendChild(docLink);\n",
              "      }\n",
              "    </script>\n",
              "  </div>\n",
              "\n",
              "\n",
              "<div id=\"df-b57c70c2-f50f-49db-ab67-4e9b01a9ae05\">\n",
              "  <button class=\"colab-df-quickchart\" onclick=\"quickchart('df-b57c70c2-f50f-49db-ab67-4e9b01a9ae05')\"\n",
              "            title=\"Suggest charts\"\n",
              "            style=\"display:none;\">\n",
              "\n",
              "<svg xmlns=\"http://www.w3.org/2000/svg\" height=\"24px\"viewBox=\"0 0 24 24\"\n",
              "     width=\"24px\">\n",
              "    <g>\n",
              "        <path d=\"M19 3H5c-1.1 0-2 .9-2 2v14c0 1.1.9 2 2 2h14c1.1 0 2-.9 2-2V5c0-1.1-.9-2-2-2zM9 17H7v-7h2v7zm4 0h-2V7h2v10zm4 0h-2v-4h2v4z\"/>\n",
              "    </g>\n",
              "</svg>\n",
              "  </button>\n",
              "\n",
              "<style>\n",
              "  .colab-df-quickchart {\n",
              "      --bg-color: #E8F0FE;\n",
              "      --fill-color: #1967D2;\n",
              "      --hover-bg-color: #E2EBFA;\n",
              "      --hover-fill-color: #174EA6;\n",
              "      --disabled-fill-color: #AAA;\n",
              "      --disabled-bg-color: #DDD;\n",
              "  }\n",
              "\n",
              "  [theme=dark] .colab-df-quickchart {\n",
              "      --bg-color: #3B4455;\n",
              "      --fill-color: #D2E3FC;\n",
              "      --hover-bg-color: #434B5C;\n",
              "      --hover-fill-color: #FFFFFF;\n",
              "      --disabled-bg-color: #3B4455;\n",
              "      --disabled-fill-color: #666;\n",
              "  }\n",
              "\n",
              "  .colab-df-quickchart {\n",
              "    background-color: var(--bg-color);\n",
              "    border: none;\n",
              "    border-radius: 50%;\n",
              "    cursor: pointer;\n",
              "    display: none;\n",
              "    fill: var(--fill-color);\n",
              "    height: 32px;\n",
              "    padding: 0;\n",
              "    width: 32px;\n",
              "  }\n",
              "\n",
              "  .colab-df-quickchart:hover {\n",
              "    background-color: var(--hover-bg-color);\n",
              "    box-shadow: 0 1px 2px rgba(60, 64, 67, 0.3), 0 1px 3px 1px rgba(60, 64, 67, 0.15);\n",
              "    fill: var(--button-hover-fill-color);\n",
              "  }\n",
              "\n",
              "  .colab-df-quickchart-complete:disabled,\n",
              "  .colab-df-quickchart-complete:disabled:hover {\n",
              "    background-color: var(--disabled-bg-color);\n",
              "    fill: var(--disabled-fill-color);\n",
              "    box-shadow: none;\n",
              "  }\n",
              "\n",
              "  .colab-df-spinner {\n",
              "    border: 2px solid var(--fill-color);\n",
              "    border-color: transparent;\n",
              "    border-bottom-color: var(--fill-color);\n",
              "    animation:\n",
              "      spin 1s steps(1) infinite;\n",
              "  }\n",
              "\n",
              "  @keyframes spin {\n",
              "    0% {\n",
              "      border-color: transparent;\n",
              "      border-bottom-color: var(--fill-color);\n",
              "      border-left-color: var(--fill-color);\n",
              "    }\n",
              "    20% {\n",
              "      border-color: transparent;\n",
              "      border-left-color: var(--fill-color);\n",
              "      border-top-color: var(--fill-color);\n",
              "    }\n",
              "    30% {\n",
              "      border-color: transparent;\n",
              "      border-left-color: var(--fill-color);\n",
              "      border-top-color: var(--fill-color);\n",
              "      border-right-color: var(--fill-color);\n",
              "    }\n",
              "    40% {\n",
              "      border-color: transparent;\n",
              "      border-right-color: var(--fill-color);\n",
              "      border-top-color: var(--fill-color);\n",
              "    }\n",
              "    60% {\n",
              "      border-color: transparent;\n",
              "      border-right-color: var(--fill-color);\n",
              "    }\n",
              "    80% {\n",
              "      border-color: transparent;\n",
              "      border-right-color: var(--fill-color);\n",
              "      border-bottom-color: var(--fill-color);\n",
              "    }\n",
              "    90% {\n",
              "      border-color: transparent;\n",
              "      border-bottom-color: var(--fill-color);\n",
              "    }\n",
              "  }\n",
              "</style>\n",
              "\n",
              "  <script>\n",
              "    async function quickchart(key) {\n",
              "      const quickchartButtonEl =\n",
              "        document.querySelector('#' + key + ' button');\n",
              "      quickchartButtonEl.disabled = true;  // To prevent multiple clicks.\n",
              "      quickchartButtonEl.classList.add('colab-df-spinner');\n",
              "      try {\n",
              "        const charts = await google.colab.kernel.invokeFunction(\n",
              "            'suggestCharts', [key], {});\n",
              "      } catch (error) {\n",
              "        console.error('Error during call to suggestCharts:', error);\n",
              "      }\n",
              "      quickchartButtonEl.classList.remove('colab-df-spinner');\n",
              "      quickchartButtonEl.classList.add('colab-df-quickchart-complete');\n",
              "    }\n",
              "    (() => {\n",
              "      let quickchartButtonEl =\n",
              "        document.querySelector('#df-b57c70c2-f50f-49db-ab67-4e9b01a9ae05 button');\n",
              "      quickchartButtonEl.style.display =\n",
              "        google.colab.kernel.accessAllowed ? 'block' : 'none';\n",
              "    })();\n",
              "  </script>\n",
              "</div>\n",
              "\n",
              "    </div>\n",
              "  </div>\n"
            ],
            "application/vnd.google.colaboratory.intrinsic+json": {
              "type": "dataframe",
              "variable_name": "df",
              "summary": "{\n  \"name\": \"df\",\n  \"rows\": 9999,\n  \"fields\": [\n    {\n      \"column\": \"imdb-id\",\n      \"properties\": {\n        \"dtype\": \"string\",\n        \"num_unique_values\": 9765,\n        \"samples\": [\n          \"tt4007368\",\n          \"tt6318268\",\n          \"tt3771536\"\n        ],\n        \"semantic_type\": \"\",\n        \"description\": \"\"\n      }\n    },\n    {\n      \"column\": \"movie_name\",\n      \"properties\": {\n        \"dtype\": \"string\",\n        \"num_unique_values\": 9255,\n        \"samples\": [\n          \"Durgamati: The Myth\",\n          \"Barah Aana\",\n          \"Dil Ne Ikaar Kiya\"\n        ],\n        \"semantic_type\": \"\",\n        \"description\": \"\"\n      }\n    },\n    {\n      \"column\": \"year_of_release\",\n      \"properties\": {\n        \"dtype\": \"category\",\n        \"num_unique_values\": 205,\n        \"samples\": [\n          \"(2003)\",\n          \"(2001)\",\n          \"(II) (2012)\"\n        ],\n        \"semantic_type\": \"\",\n        \"description\": \"\"\n      }\n    },\n    {\n      \"column\": \"runtime\",\n      \"properties\": {\n        \"dtype\": \"category\",\n        \"num_unique_values\": 180,\n        \"samples\": [\n          \"183 min\",\n          \"162 min\",\n          \"52 min\"\n        ],\n        \"semantic_type\": \"\",\n        \"description\": \"\"\n      }\n    },\n    {\n      \"column\": \"IMDB_rating\",\n      \"properties\": {\n        \"dtype\": \"category\",\n        \"num_unique_values\": 90,\n        \"samples\": [\n          \"4.4\",\n          \"7.5\",\n          \"5.1\"\n        ],\n        \"semantic_type\": \"\",\n        \"description\": \"\"\n      }\n    },\n    {\n      \"column\": \"no_of_votes\",\n      \"properties\": {\n        \"dtype\": \"category\",\n        \"num_unique_values\": 2072,\n        \"samples\": [\n          \"964\",\n          \"3,927\",\n          \"4,411\"\n        ],\n        \"semantic_type\": \"\",\n        \"description\": \"\"\n      }\n    },\n    {\n      \"column\": \"plot_description\",\n      \"properties\": {\n        \"dtype\": \"string\",\n        \"num_unique_values\": 7046,\n        \"samples\": [\n          \"Modern adaptation of William Shakespeare's 'Romeo and Juliet' with an Indian twist, the film focuses on the story of Ram and Leela, their love, lust and the drama afterwards.\",\n          \"This special-effects laden film is based upon an episode from the Ramayana. Indrajit, son of Ravan, initiates an attack on Rama (Mane) and Lakshmana (Kulkarni) in which they are captured by...                See full summary\\u00a0\\u00bb\",\n          \"A notorious terrorist manipulates an Indian army major's jilted lover into helping him obtain a classified military code.\"\n        ],\n        \"semantic_type\": \"\",\n        \"description\": \"\"\n      }\n    },\n    {\n      \"column\": \"director\",\n      \"properties\": {\n        \"dtype\": \"category\",\n        \"num_unique_values\": 3672,\n        \"samples\": [\n          \"Krishna\",\n          \"Shyamal K. Mishra\",\n          \"Manav Kaul\"\n        ],\n        \"semantic_type\": \"\",\n        \"description\": \"\"\n      }\n    },\n    {\n      \"column\": \"actors\",\n      \"properties\": {\n        \"dtype\": \"string\",\n        \"num_unique_values\": 9425,\n        \"samples\": [\n          \"    Rakesh Roshan|     Hrithik Roshan, Nawazuddin Siddiqui, Nora Fatehi, Naman Jain\",\n          \"    Yash Chopra|     Anil Kapoor, Rajesh Khanna, Rishi Kapoor, Hema Malini\",\n          \"                Arun Govil, Raveena Tandon, Upendra\"\n        ],\n        \"semantic_type\": \"\",\n        \"description\": \"\"\n      }\n    },\n    {\n      \"column\": \"genre\",\n      \"properties\": {\n        \"dtype\": \"category\",\n        \"num_unique_values\": 766,\n        \"samples\": [\n          \"Mystery, Romance, Musical, Thriller\",\n          \"Musical, Mystery, Romance\",\n          \"Drama, Family, Thriller\"\n        ],\n        \"semantic_type\": \"\",\n        \"description\": \"\"\n      }\n    },\n    {\n      \"column\": \"keywords\",\n      \"properties\": {\n        \"dtype\": \"string\",\n        \"num_unique_values\": 7045,\n        \"samples\": [\n          \"['Romeo and Juliet', 'William Shakespeare', 'Ram and Leela', 'Indian twist', 'adaptation of William']\",\n          \"['special-effects laden film', 'special-effects laden', 'laden film', 'film is based', 'Ramayana']\",\n          \"['Indian army major', 'classified military code', 'notorious terrorist manipulates', 'army major jilted', 'major jilted lover']\"\n        ],\n        \"semantic_type\": \"\",\n        \"description\": \"\"\n      }\n    }\n  ]\n}"
            }
          },
          "metadata": {},
          "execution_count": 3
        }
      ],
      "source": [
        "df = pd.read_csv('/content/final_dataset.csv')\n",
        "df.head()"
      ]
    },
    {
      "cell_type": "markdown",
      "source": [
        "# Pre-processing"
      ],
      "metadata": {
        "id": "PMnTtjzAGz_h"
      }
    },
    {
      "cell_type": "markdown",
      "source": [
        "## Feature Engineering"
      ],
      "metadata": {
        "id": "qjrx6EaLG3gs"
      }
    },
    {
      "cell_type": "markdown",
      "source": [
        "### Adding genre feature to dataset according to imdb id"
      ],
      "metadata": {
        "id": "ThQ7DWfAJAJl"
      }
    },
    {
      "cell_type": "code",
      "source": [
        "import pandas as pd\n",
        "from imdb import IMDb\n",
        "\n",
        "# Initialize IMDb instance\n",
        "ia = IMDb()\n",
        "\n",
        "# Function to fetch genres based on IMDb ID\n",
        "def get_genres_from_imdb(imdb_id):\n",
        "    try:\n",
        "        # Check if IMDb ID is valid\n",
        "        if not imdb_id.startswith('tt'):\n",
        "            return 'Unknown Genre'\n",
        "\n",
        "        # Remove the 'tt' prefix to get the numeric part of the IMDb ID\n",
        "        numeric_id = imdb_id.replace('tt', '')\n",
        "        movie = ia.get_movie(numeric_id)\n",
        "        return \", \".join(movie.get('genres', [])) if movie.get('genres') else 'Unknown Genre'\n",
        "    except Exception as e:\n",
        "        print(f\"Error fetching genres for IMDb ID {imdb_id}: {e}\")\n",
        "        return 'Unknown Genre'\n",
        "\n",
        "# Load the divided part CSV file (replace with the correct file path)\n",
        "input_csv_path = '/content/2/10000-bollywood-dataset'  # Replace with the actual file path of your part file\n",
        "df = pd.read_csv(input_csv_path)\n",
        "\n",
        "# Add the genres column using the function\n",
        "df['genre'] = df['imdb-id'].apply(get_genres_from_imdb)\n",
        "\n",
        "# Save the processed file with genres\n",
        "output_csv_path = input_csv_path.replace('.csv', '_with_genres.csv')\n",
        "df_part.to_csv(output_csv_path, index=False)"
      ],
      "metadata": {
        "id": "GgphDkHMmX3q"
      },
      "execution_count": 78,
      "outputs": []
    },
    {
      "cell_type": "code",
      "execution_count": 4,
      "metadata": {
        "colab": {
          "base_uri": "https://localhost:8080/"
        },
        "id": "d2jrG7eAAH8J",
        "outputId": "59eedcc9-fdd3-4ecb-8e3e-61cc211fd4da"
      },
      "outputs": [
        {
          "output_type": "stream",
          "name": "stdout",
          "text": [
            "<class 'pandas.core.frame.DataFrame'>\n",
            "RangeIndex: 9999 entries, 0 to 9998\n",
            "Data columns (total 11 columns):\n",
            " #   Column            Non-Null Count  Dtype \n",
            "---  ------            --------------  ----- \n",
            " 0   imdb-id           9999 non-null   object\n",
            " 1   movie_name        9999 non-null   object\n",
            " 2   year_of_release   9799 non-null   object\n",
            " 3   runtime           9999 non-null   object\n",
            " 4   IMDB_rating       9999 non-null   object\n",
            " 5   no_of_votes       9999 non-null   object\n",
            " 6   plot_description  9999 non-null   object\n",
            " 7   director          9999 non-null   object\n",
            " 8   actors            9534 non-null   object\n",
            " 9   genre             9999 non-null   object\n",
            " 10  keywords          9999 non-null   object\n",
            "dtypes: object(11)\n",
            "memory usage: 859.4+ KB\n",
            "None\n",
            "imdb-id               0\n",
            "movie_name            0\n",
            "year_of_release     200\n",
            "runtime               0\n",
            "IMDB_rating           0\n",
            "no_of_votes           0\n",
            "plot_description      0\n",
            "director              0\n",
            "actors              465\n",
            "genre                 0\n",
            "keywords              0\n",
            "dtype: int64\n"
          ]
        }
      ],
      "source": [
        "# Get column information\n",
        "print(df.info())\n",
        "\n",
        "# Check for missing values\n",
        "print(df.isnull().sum())"
      ]
    },
    {
      "cell_type": "code",
      "execution_count": 8,
      "metadata": {
        "id": "kJHRqmWVAb2Z"
      },
      "outputs": [],
      "source": [
        "# Drop the 'Unnamed: 0' column\n",
        "df = df.drop(columns=['Unnamed: 0'])"
      ]
    },
    {
      "cell_type": "code",
      "execution_count": 89,
      "metadata": {
        "id": "KrzyBw2FA3E4"
      },
      "outputs": [],
      "source": [
        "# Fill missing values for year_of_release\n",
        "df['year_of_release'] = df['year_of_release'].fillna(\"Unknown\")\n",
        "\n",
        "# Fill missing values for actors with \"Unknown\"\n",
        "df['actors'] = df['actors'].fillna(\"Unknown\")"
      ]
    },
    {
      "cell_type": "code",
      "execution_count": 90,
      "metadata": {
        "colab": {
          "base_uri": "https://localhost:8080/"
        },
        "id": "H02LWTTDBgYq",
        "outputId": "595dbfe8-5e79-4e73-ef3f-85f7d6100fa7"
      },
      "outputs": [
        {
          "output_type": "stream",
          "name": "stdout",
          "text": [
            "imdb-id             0\n",
            "movie_name          0\n",
            "year_of_release     0\n",
            "runtime             0\n",
            "IMDB_rating         0\n",
            "no_of_votes         0\n",
            "plot_description    0\n",
            "director            0\n",
            "actors              0\n",
            "genre               0\n",
            "dtype: int64\n"
          ]
        }
      ],
      "source": [
        "# Check for missing values\n",
        "print(df.isnull().sum())"
      ]
    },
    {
      "cell_type": "code",
      "execution_count": 91,
      "metadata": {
        "id": "UoZuwIcFA30g"
      },
      "outputs": [],
      "source": [
        "import numpy as np\n",
        "\n",
        "# Replace empty strings or spaces with NaN\n",
        "df['IMDB_rating'] = df['IMDB_rating'].replace(' ', np.nan)\n",
        "\n",
        "# Convert IMDB_rating to float, handling missing values\n",
        "df['IMDB_rating'] = pd.to_numeric(df['IMDB_rating'], errors='coerce')\n",
        "\n",
        "# Fill NaN ratings with a placeholder value, e.g., the average rating\n",
        "df['IMDB_rating'] = df['IMDB_rating'].fillna(df['IMDB_rating'].mean())"
      ]
    },
    {
      "cell_type": "code",
      "execution_count": 93,
      "metadata": {
        "id": "gJVWsHt8BIYP"
      },
      "outputs": [],
      "source": [
        "# Replace empty strings or invalid values with NaN in no_of_votes\n",
        "df['no_of_votes'] = df['no_of_votes'].replace(' ', np.nan)\n",
        "\n",
        "# Convert no_of_votes to integer, handling missing values\n",
        "df['no_of_votes'] = pd.to_numeric(df['no_of_votes'].str.replace(\",\", \"\"), errors='coerce')\n",
        "\n",
        "# Fill NaN values in no_of_votes with a default value, e.g., 0\n",
        "df['no_of_votes'] = df['no_of_votes'].fillna(0).astype(int)"
      ]
    },
    {
      "cell_type": "code",
      "execution_count": null,
      "metadata": {
        "colab": {
          "base_uri": "https://localhost:8080/"
        },
        "id": "W_RCMTRfBKRE",
        "outputId": "283e747b-c57b-4bae-ef0a-01c6944962fc"
      },
      "outputs": [
        {
          "name": "stdout",
          "output_type": "stream",
          "text": [
            "0    8.3\n",
            "1    8.4\n",
            "2    8.3\n",
            "3    8.3\n",
            "4    8.1\n",
            "Name: IMDB_rating, dtype: float64\n",
            "0    548031\n",
            "1    387020\n",
            "2    188938\n",
            "3    183452\n",
            "4    180108\n",
            "Name: no_of_votes, dtype: int64\n",
            "<class 'pandas.core.frame.DataFrame'>\n",
            "RangeIndex: 9999 entries, 0 to 9998\n",
            "Data columns (total 9 columns):\n",
            " #   Column            Non-Null Count  Dtype  \n",
            "---  ------            --------------  -----  \n",
            " 0   imdb-id           9999 non-null   object \n",
            " 1   movie_name        9999 non-null   object \n",
            " 2   year_of_release   9999 non-null   object \n",
            " 3   runtime           9999 non-null   object \n",
            " 4   IMDB_rating       9999 non-null   float64\n",
            " 5   no_of_votes       9999 non-null   int64  \n",
            " 6   plot_description  9999 non-null   object \n",
            " 7   director          9999 non-null   object \n",
            " 8   actors            9999 non-null   object \n",
            "dtypes: float64(1), int64(1), object(7)\n",
            "memory usage: 703.2+ KB\n",
            "None\n"
          ]
        }
      ],
      "source": [
        "# Verify cleaned columns\n",
        "print(df['IMDB_rating'].head())\n",
        "print(df['no_of_votes'].head())\n",
        "\n",
        "# Check data types again\n",
        "print(df.info())"
      ]
    },
    {
      "cell_type": "code",
      "execution_count": 95,
      "metadata": {
        "id": "jfNs49K5DDV9"
      },
      "outputs": [],
      "source": [
        "df['director'] = df['director'].apply(lambda x: x.split(\", \") if x != \"Unknown\" else [])"
      ]
    },
    {
      "cell_type": "code",
      "source": [
        "df['genre'] = df['genre'].apply(lambda x: x.split(\", \") if x != \"Unknown Genre\" else [])"
      ],
      "metadata": {
        "id": "ByiiaPp9Juyb"
      },
      "execution_count": 96,
      "outputs": []
    },
    {
      "cell_type": "code",
      "execution_count": 99,
      "metadata": {
        "colab": {
          "base_uri": "https://localhost:8080/"
        },
        "id": "EoXS76p2CfgO",
        "outputId": "f4593d97-8c8c-4b8c-cd7e-2105a1444bad"
      },
      "outputs": [
        {
          "output_type": "stream",
          "name": "stdout",
          "text": [
            "0    [Vivek Agnihotri, Mithun Chakraborty, Anupam K...\n",
            "1    [Rajkumar Hirani, Aamir Khan, Madhavan, Mona S...\n",
            "2    [Aamir Khan, Amole Gupte, Darsheel Safary, Aam...\n",
            "3    [Nitesh Tiwari, Aamir Khan, Sakshi Tanwar, Fat...\n",
            "4    [Rajkumar Hirani, Aamir Khan, Anushka Sharma, ...\n",
            "Name: actors, dtype: object\n",
            "0    [Vivek Agnihotri]\n",
            "1    [Rajkumar Hirani]\n",
            "2         [Aamir Khan]\n",
            "3      [Nitesh Tiwari]\n",
            "4    [Rajkumar Hirani]\n",
            "Name: director, dtype: object\n"
          ]
        }
      ],
      "source": [
        "# Check the first few rows of the processed columns\n",
        "print(df['actors'].head())\n",
        "print(df['director'].head())"
      ]
    },
    {
      "cell_type": "code",
      "execution_count": 100,
      "metadata": {
        "colab": {
          "base_uri": "https://localhost:8080/"
        },
        "id": "pifXIcvfDKlg",
        "outputId": "25899ad0-192d-4b75-e22a-2f906df2d2a8"
      },
      "outputs": [
        {
          "output_type": "stream",
          "name": "stdout",
          "text": [
            "                                              actors           director\n",
            "0  [Vivek Agnihotri, Mithun Chakraborty, Anupam K...  [Vivek Agnihotri]\n",
            "1  [Rajkumar Hirani, Aamir Khan, Madhavan, Mona S...  [Rajkumar Hirani]\n",
            "2  [Aamir Khan, Amole Gupte, Darsheel Safary, Aam...       [Aamir Khan]\n",
            "3  [Nitesh Tiwari, Aamir Khan, Sakshi Tanwar, Fat...    [Nitesh Tiwari]\n",
            "4  [Rajkumar Hirani, Aamir Khan, Anushka Sharma, ...  [Rajkumar Hirani]\n"
          ]
        }
      ],
      "source": [
        "print(df[['actors', 'director']].head())"
      ]
    },
    {
      "cell_type": "markdown",
      "source": [
        "### Adding keywords feature to dataset according to plot description."
      ],
      "metadata": {
        "id": "UkTk48_3HHYp"
      }
    },
    {
      "cell_type": "code",
      "execution_count": 5,
      "metadata": {
        "colab": {
          "base_uri": "https://localhost:8080/"
        },
        "id": "ZpCGC8Wvrejf",
        "outputId": "9bc92b33-aa3f-411d-e595-346e97af2e3a"
      },
      "outputs": [
        {
          "output_type": "stream",
          "name": "stdout",
          "text": [
            "Collecting yake\n",
            "  Downloading yake-0.4.8-py2.py3-none-any.whl.metadata (4.0 kB)\n",
            "Requirement already satisfied: tabulate in /usr/local/lib/python3.10/dist-packages (from yake) (0.9.0)\n",
            "Requirement already satisfied: click>=6.0 in /usr/local/lib/python3.10/dist-packages (from yake) (8.1.7)\n",
            "Requirement already satisfied: numpy in /usr/local/lib/python3.10/dist-packages (from yake) (1.26.4)\n",
            "Collecting segtok (from yake)\n",
            "  Downloading segtok-1.5.11-py3-none-any.whl.metadata (9.0 kB)\n",
            "Requirement already satisfied: networkx in /usr/local/lib/python3.10/dist-packages (from yake) (3.4.2)\n",
            "Requirement already satisfied: jellyfish in /usr/local/lib/python3.10/dist-packages (from yake) (1.1.0)\n",
            "Requirement already satisfied: regex in /usr/local/lib/python3.10/dist-packages (from segtok->yake) (2024.9.11)\n",
            "Downloading yake-0.4.8-py2.py3-none-any.whl (60 kB)\n",
            "\u001b[2K   \u001b[90m━━━━━━━━━━━━━━━━━━━━━━━━━━━━━━━━━━━━━━━━\u001b[0m \u001b[32m60.2/60.2 kB\u001b[0m \u001b[31m6.0 MB/s\u001b[0m eta \u001b[36m0:00:00\u001b[0m\n",
            "\u001b[?25hDownloading segtok-1.5.11-py3-none-any.whl (24 kB)\n",
            "Installing collected packages: segtok, yake\n",
            "Successfully installed segtok-1.5.11 yake-0.4.8\n"
          ]
        }
      ],
      "source": [
        "!pip install yake"
      ]
    },
    {
      "cell_type": "code",
      "execution_count": 5,
      "metadata": {
        "id": "STtqJmB6rc8p",
        "colab": {
          "base_uri": "https://localhost:8080/"
        },
        "outputId": "13886f2d-e368-4658-a477-73e0f3a18d60"
      },
      "outputs": [
        {
          "output_type": "stream",
          "name": "stdout",
          "text": [
            "Extracting keywords from plot descriptions...\n"
          ]
        }
      ],
      "source": [
        "import yake\n",
        "\n",
        "print(\"Extracting keywords from plot descriptions...\")\n",
        "kw_extractor = yake.KeywordExtractor(top=5, stopwords=None)\n",
        "\n",
        "def extract_keywords(text):\n",
        "    try:\n",
        "        keywords = kw_extractor.extract_keywords(text)\n",
        "        return [kw for kw, score in keywords]\n",
        "    except:\n",
        "        return []"
      ]
    },
    {
      "cell_type": "code",
      "source": [
        "df['keywords'] = df['plot_description'].apply(extract_keywords)\n",
        "print(\"Keywords extracted successfully.\")"
      ],
      "metadata": {
        "colab": {
          "base_uri": "https://localhost:8080/"
        },
        "id": "apStdH5CKU_w",
        "outputId": "2d527479-c751-420b-9732-136f6430703f"
      },
      "execution_count": 6,
      "outputs": [
        {
          "output_type": "stream",
          "name": "stdout",
          "text": [
            "Keywords extracted successfully.\n"
          ]
        }
      ]
    },
    {
      "cell_type": "code",
      "source": [
        "df.to_csv('final_dataset.csv', index=False)"
      ],
      "metadata": {
        "id": "IWsyAj_eKd5b"
      },
      "execution_count": 9,
      "outputs": []
    },
    {
      "cell_type": "markdown",
      "source": [
        "# Getting Data ready to export to Neo4j Aura"
      ],
      "metadata": {
        "id": "ClshTsVKHPg9"
      }
    },
    {
      "cell_type": "code",
      "execution_count": 104,
      "metadata": {
        "colab": {
          "base_uri": "https://localhost:8080/"
        },
        "id": "l1vnoqXJDgeP",
        "outputId": "e56477bb-bb23-4f66-e793-b8226053a67b"
      },
      "outputs": [
        {
          "output_type": "stream",
          "name": "stdout",
          "text": [
            "movies.csv created successfully.\n"
          ]
        }
      ],
      "source": [
        "# Select movie-related columns and save them\n",
        "movies = df[['imdb-id', 'movie_name', 'year_of_release', 'runtime', 'IMDB_rating', 'no_of_votes', 'plot_description']].drop_duplicates()\n",
        "movies.rename(columns={\n",
        "    'imdb-id': 'imdb_id',\n",
        "    'movie_name': 'title',\n",
        "    'year_of_release': 'year',\n",
        "    'runtime': 'runtime',\n",
        "    'IMDB_rating': 'rating',\n",
        "    'no_of_votes': 'votes',\n",
        "    'plot_description': 'plot'\n",
        "}, inplace=True)\n",
        "\n",
        "# Save to CSV\n",
        "movies.to_csv('movies.csv', index=False)\n",
        "print(\"movies.csv created successfully.\")"
      ]
    },
    {
      "cell_type": "code",
      "source": [
        "# Actors DataFrame\n",
        "unique_actors = list(set(actor.strip() for sublist in df['actors'] for actor in sublist if actor.strip()))\n",
        "actors = pd.DataFrame({'name': unique_actors})\n",
        "actors.to_csv('actors.csv', index=False)\n",
        "print(\"actors.csv created successfully.\")\n",
        "\n",
        "# Directors DataFrame\n",
        "unique_directors = list(set(director.strip() for sublist in df['director'] for director in sublist if director.strip()))\n",
        "directors = pd.DataFrame({'name': unique_directors})\n",
        "directors.to_csv('directors.csv', index=False)\n",
        "print(\"directors.csv created successfully.\")\n",
        "\n",
        "# Genres DataFrame\n",
        "movie_genre = df[['imdb-id', 'genre']].explode('genre').dropna()\n",
        "movie_genre.rename(columns={'imdb-id': 'imdb_id'}, inplace=True)\n",
        "unique_genres = movie_genre['genre'].unique()\n",
        "genres = pd.DataFrame({'name': unique_genres})\n",
        "genres.to_csv('genres.csv', index=False)\n",
        "print(\"genres.csv created successfully.\")\n",
        "\n",
        "# Keywords DataFrame\n",
        "movie_keyword = df[['imdb-id', 'keywords']].explode('keywords').dropna()\n",
        "movie_keyword.rename(columns={'imdb-id': 'imdb_id', 'keywords': 'keyword'}, inplace=True)\n",
        "unique_keywords = movie_keyword['keyword'].unique()\n",
        "keywords = pd.DataFrame({'name': unique_keywords})\n",
        "keywords.to_csv('keywords.csv', index=False)\n",
        "print(\"keywords.csv created successfully.\")\n",
        "\n",
        "# Step 4: Prepare DataFrames for Relationships\n",
        "\n",
        "# Movie-Actor Relationships\n",
        "movie_actor = df[['imdb-id', 'actors']].explode('actors').dropna()\n",
        "movie_actor['actors'] = movie_actor['actors'].str.strip()\n",
        "movie_actor.rename(columns={'imdb-id': 'imdb_id', 'actors': 'actor_name'}, inplace=True)\n",
        "movie_actor.to_csv('movie_actor.csv', index=False)\n",
        "print(\"movie_actor.csv created successfully.\")\n",
        "\n",
        "# Movie-Director Relationships\n",
        "movie_director = df[['imdb-id', 'director']].explode('director').dropna()\n",
        "movie_director['director'] = movie_director['director'].str.strip()\n",
        "movie_director.rename(columns={'imdb-id': 'imdb_id', 'director': 'director_name'}, inplace=True)\n",
        "movie_director.to_csv('movie_director.csv', index=False)\n",
        "print(\"movie_director.csv created successfully.\")\n",
        "\n",
        "# Movie-Genre Relationships (already created above)\n",
        "movie_genre.to_csv('movie_genre.csv', index=False)\n",
        "print(\"movie_genre.csv created successfully.\")\n",
        "\n",
        "# Movie-Keyword Relationships (already created above)\n",
        "movie_keyword.to_csv('movie_keyword.csv', index=False)\n",
        "print(\"movie_keyword.csv created successfully.\")\n"
      ],
      "metadata": {
        "colab": {
          "base_uri": "https://localhost:8080/"
        },
        "id": "Skqcv7okKo7u",
        "outputId": "bda6b5bb-7c72-4012-cd4e-552ca0ea7d2e"
      },
      "execution_count": 106,
      "outputs": [
        {
          "output_type": "stream",
          "name": "stdout",
          "text": [
            "actors.csv created successfully.\n",
            "directors.csv created successfully.\n",
            "genres.csv created successfully.\n",
            "keywords.csv created successfully.\n",
            "movie_actor.csv created successfully.\n",
            "movie_director.csv created successfully.\n",
            "movie_genre.csv created successfully.\n",
            "movie_keyword.csv created successfully.\n"
          ]
        }
      ]
    }
  ],
  "metadata": {
    "colab": {
      "provenance": [],
      "gpuType": "T4",
      "authorship_tag": "ABX9TyM44x0HQyOJ54sb4xOxGgCn",
      "include_colab_link": true
    },
    "kernelspec": {
      "display_name": "Python 3",
      "name": "python3"
    },
    "language_info": {
      "name": "python"
    },
    "accelerator": "GPU"
  },
  "nbformat": 4,
  "nbformat_minor": 0
}